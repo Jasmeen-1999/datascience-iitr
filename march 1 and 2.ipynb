<<<<<<< HEAD
<<<<<<< HEAD
{
 "cells": [
  {
   "cell_type": "markdown",
   "metadata": {},
   "source": [
    "Q: Is a given point inside the given rectangle?\n",
    "\n",
    "Q: Is a point inside a triangle, quadrilateral, a polygon. (Out of Scope)"
   ]
  },
  {
   "cell_type": "code",
   "execution_count": 52,
   "metadata": {},
   "outputs": [],
   "source": [
    "def is_point_inside(x1,y1,x2,y2,x,y):\n",
    "    if x < max(x1,x2) and x > min(x1,x2) and y < max (y1,y2) and y > min (y1,y2):\n",
    "        return True\n",
    "    else:\n",
    "        return False"
   ]
  },
  {
   "cell_type": "code",
   "execution_count": 53,
   "metadata": {},
   "outputs": [
    {
     "data": {
      "text/plain": [
       "True"
      ]
     },
     "execution_count": 53,
     "metadata": {},
     "output_type": "execute_result"
    }
   ],
   "source": [
    "is_point_inside(1,2,5,6,3,4)"
   ]
  },
  {
   "cell_type": "code",
   "execution_count": 55,
   "metadata": {},
   "outputs": [
    {
     "data": {
      "text/plain": [
       "False"
      ]
     },
     "execution_count": 55,
     "metadata": {},
     "output_type": "execute_result"
    }
   ],
   "source": [
    "is_point_inside(1,2,5,6,4,7)"
   ]
  },
  {
   "cell_type": "code",
   "execution_count": 4,
   "metadata": {},
   "outputs": [
    {
     "ename": "SyntaxError",
     "evalue": "invalid syntax (<ipython-input-4-768147102b8e>, line 5)",
     "output_type": "error",
     "traceback": [
      "\u001b[0;36m  File \u001b[0;32m\"<ipython-input-4-768147102b8e>\"\u001b[0;36m, line \u001b[0;32m5\u001b[0m\n\u001b[0;31m    add = bin(n1 + n2)\u001b[0m\n\u001b[0m      ^\u001b[0m\n\u001b[0;31mSyntaxError\u001b[0m\u001b[0;31m:\u001b[0m invalid syntax\n"
     ]
    }
   ],
   "source": [
    "#SYMS = \"0123456789abcdefghijklmnopqrstuvwxyzABCDEFGHIJKLMNOPQRSTUVWXYZ@_\"\n",
    "def add_numbers_11(s1, s2):\n",
    "    n1 = bin(int('s1'))\n",
    "    n2 = bin(int('s2')\n",
    "    add = bin(n1 + n2)\n",
    "    return add"
   ]
  },
  {
   "cell_type": "code",
   "execution_count": 3,
   "metadata": {},
   "outputs": [
    {
     "ename": "TypeError",
     "evalue": "'str' object cannot be interpreted as an integer",
     "output_type": "error",
     "traceback": [
      "\u001b[0;31m---------------------------------------------------------------------------\u001b[0m",
      "\u001b[0;31mTypeError\u001b[0m                                 Traceback (most recent call last)",
      "\u001b[0;32m<ipython-input-3-1a7ef12f091d>\u001b[0m in \u001b[0;36m<module>\u001b[0;34m\u001b[0m\n\u001b[0;32m----> 1\u001b[0;31m \u001b[0madd_numbers_11\u001b[0m\u001b[0;34m(\u001b[0m\u001b[0;34m\"1A\"\u001b[0m\u001b[0;34m,\u001b[0m \u001b[0;34m\"3A6\"\u001b[0m\u001b[0;34m)\u001b[0m\u001b[0;34m\u001b[0m\u001b[0;34m\u001b[0m\u001b[0m\n\u001b[0m",
      "\u001b[0;32m<ipython-input-2-614c5c842ec0>\u001b[0m in \u001b[0;36madd_numbers_11\u001b[0;34m(s1, s2)\u001b[0m\n\u001b[1;32m      1\u001b[0m \u001b[0;31m#SYMS = \"0123456789abcdefghijklmnopqrstuvwxyzABCDEFGHIJKLMNOPQRSTUVWXYZ@_\"\u001b[0m\u001b[0;34m\u001b[0m\u001b[0;34m\u001b[0m\u001b[0;34m\u001b[0m\u001b[0m\n\u001b[1;32m      2\u001b[0m \u001b[0;32mdef\u001b[0m \u001b[0madd_numbers_11\u001b[0m\u001b[0;34m(\u001b[0m\u001b[0ms1\u001b[0m\u001b[0;34m,\u001b[0m \u001b[0ms2\u001b[0m\u001b[0;34m)\u001b[0m\u001b[0;34m:\u001b[0m\u001b[0;34m\u001b[0m\u001b[0;34m\u001b[0m\u001b[0m\n\u001b[0;32m----> 3\u001b[0;31m     \u001b[0mn1\u001b[0m \u001b[0;34m=\u001b[0m \u001b[0mbin\u001b[0m\u001b[0;34m(\u001b[0m\u001b[0;34m's1'\u001b[0m\u001b[0;34m)\u001b[0m\u001b[0;34m\u001b[0m\u001b[0;34m\u001b[0m\u001b[0m\n\u001b[0m\u001b[1;32m      4\u001b[0m     \u001b[0mn2\u001b[0m \u001b[0;34m=\u001b[0m \u001b[0mbin\u001b[0m\u001b[0;34m(\u001b[0m\u001b[0;34m's2'\u001b[0m\u001b[0;34m)\u001b[0m\u001b[0;34m\u001b[0m\u001b[0;34m\u001b[0m\u001b[0m\n\u001b[1;32m      5\u001b[0m     \u001b[0madd\u001b[0m \u001b[0;34m=\u001b[0m \u001b[0mbin\u001b[0m\u001b[0;34m(\u001b[0m\u001b[0mn1\u001b[0m \u001b[0;34m+\u001b[0m \u001b[0mn2\u001b[0m\u001b[0;34m)\u001b[0m\u001b[0;34m\u001b[0m\u001b[0;34m\u001b[0m\u001b[0m\n",
      "\u001b[0;31mTypeError\u001b[0m: 'str' object cannot be interpreted as an integer"
     ]
    }
   ],
   "source": [
    "add_numbers_11(\"1A\", \"3A6\")"
   ]
  },
  {
   "cell_type": "code",
   "execution_count": null,
   "metadata": {},
   "outputs": [],
   "source": [
    "\n",
    "# Bisect or Binary Search\n",
    "\n",
    "\n",
    "#Q: \n",
    "\n",
    "def distance_2d(x1, y1, x2, y2):\n",
    "    return #the distance using hypotenus\n",
    "# Q:\n",
    "\n",
    "def distance_3d(x1, y1, z1, x2, y2, z2):\n",
    "    return #the distance using hypotenus\n",
    "\n",
    "Q:\n",
    "# I want to measure the rate of change of output with respect to input.\n",
    "# Slight increase input and observe how much output changes\n",
    "# find out the ratio of change of output wrt input\n",
    "# def diff(f, x):\n",
    "    # rate of change of output wrt input\n",
    "# test this function on your various functions such as cube, 2*x**3 + 5*x\n",
    "\n",
    "Q: # WHere can I find the logic of in built libraries of python"
   ]
  },
  {
   "cell_type": "code",
   "execution_count": 2,
   "metadata": {},
   "outputs": [],
   "source": [
    "#power\n",
    "def power(x, n):\n",
    "    result = 1\n",
    "    for i in range(n):\n",
    "        result = result * x\n",
    "    return result"
   ]
  },
  {
   "cell_type": "code",
   "execution_count": 3,
   "metadata": {},
   "outputs": [
    {
     "data": {
      "text/plain": [
       "1024"
      ]
     },
     "execution_count": 3,
     "metadata": {},
     "output_type": "execute_result"
    }
   ],
   "source": [
    "power(4, 5)"
   ]
  },
  {
   "cell_type": "code",
   "execution_count": 4,
   "metadata": {},
   "outputs": [
    {
     "data": {
      "text/plain": [
       "1"
      ]
     },
     "execution_count": 4,
     "metadata": {},
     "output_type": "execute_result"
    }
   ],
   "source": [
    "power(11, 0)"
   ]
  },
  {
   "cell_type": "code",
   "execution_count": 6,
   "metadata": {},
   "outputs": [
    {
     "data": {
      "text/plain": [
       "1"
      ]
     },
     "execution_count": 6,
     "metadata": {},
     "output_type": "execute_result"
    }
   ],
   "source": [
    "power(6, -2)"
   ]
  },
  {
   "cell_type": "code",
   "execution_count": 7,
   "metadata": {},
   "outputs": [
    {
     "name": "stdout",
     "output_type": "stream",
     "text": [
      "20 10\n"
     ]
    }
   ],
   "source": [
    "x, y = 10,20           #swapping two variables using a third variable\n",
    "x, y = y,x                  \n",
    "print(x,y)"
   ]
  },
  {
   "cell_type": "code",
   "execution_count": 8,
   "metadata": {},
   "outputs": [
    {
     "name": "stdout",
     "output_type": "stream",
     "text": [
      "20 10\n"
     ]
    }
   ],
   "source": [
    "x=10\n",
    "y=20\n",
    "y=x+y\t\t#y=10+20=30\n",
    "x=y-x\t\t#x=30-10=20\t\n",
    "y=y-x\t\t#y=30-20=10\n",
    "print (x,y)"
   ]
  },
  {
   "cell_type": "code",
   "execution_count": 9,
   "metadata": {},
   "outputs": [
    {
     "name": "stdout",
     "output_type": "stream",
     "text": [
      "20 10\n"
     ]
    }
   ],
   "source": [
    "# Can we use strings? \n",
    "x = \"10\"\n",
    "y = \"20\"\n",
    "x = x + \"_\" + y\n",
    "y, x = x.split(\"_\")\n",
    "print (x,y)"
   ]
  },
  {
   "cell_type": "code",
   "execution_count": 10,
   "metadata": {},
   "outputs": [
    {
     "name": "stdout",
     "output_type": "stream",
     "text": [
      "20 30 10\n"
     ]
    }
   ],
   "source": [
    "x, y, z = 10, 20, 30\n",
    "# move y to x\n",
    "# move z to y\n",
    "# move x to z\n",
    "# x, y, z - 20, 30, 10\n",
    "\n",
    "t = x\n",
    "x = y\n",
    "y = z\n",
    "z = t\n",
    "print (x,y,z)"
   ]
  },
  {
   "cell_type": "code",
   "execution_count": 13,
   "metadata": {},
   "outputs": [
    {
     "name": "stdout",
     "output_type": "stream",
     "text": [
      "5\n"
     ]
    }
   ],
   "source": [
    "x = 0b100\n",
    "y = 0b101\n",
    "z = x | y\n",
    "print(z)"
   ]
  },
  {
   "cell_type": "markdown",
   "metadata": {},
   "source": [
    "# 1. XOR\n",
    "Swapping values\n",
    "Light switch at home\n",
    "Backup\n",
    "Is used to test the ml model ability to learn non-linear relationship"
   ]
  },
  {
   "cell_type": "code",
   "execution_count": 14,
   "metadata": {},
   "outputs": [
    {
     "name": "stdout",
     "output_type": "stream",
     "text": [
      "17 15\n"
     ]
    }
   ],
   "source": [
    "x = 15\n",
    "y = 17\n",
    "\n",
    "y = x ^ y\n",
    "x = y ^ x\n",
    "y = y ^ x\n",
    "print(x, y)"
   ]
  },
  {
   "cell_type": "markdown",
   "metadata": {},
   "source": [
    "# Question:\n",
    "\n",
    "Basic:\n",
    "\n",
    "arr = [10, 20, 30]\n",
    "\n",
    "+ Shift all values circularly to left by one place\n",
    "+ The array could have any number of elements\n",
    "Examples:\n",
    "\n",
    "- [10, 20, 30] should become [20, 30, 10]\n",
    "- [10, 20, 30, 40] -> [20, 30, 40, 10]\n",
    "- [10] -> [10]\n",
    "- [10, 20] -> [20, 10]\n",
    "\n",
    "Medium: without using extra array but you can use extra variable\n",
    "\n",
    "Hard: shift the arr by k places to left circularly without using extra array but you can use extra variable"
   ]
  },
  {
   "cell_type": "code",
   "execution_count": 15,
   "metadata": {},
   "outputs": [
    {
     "name": "stdout",
     "output_type": "stream",
     "text": [
      "new array: [1, 2, 3, 4, 0]\n"
     ]
    }
   ],
   "source": [
    "array = [0, 1, 2, 3, 4]\n",
    "\n",
    "array1 = array[1:] + [array[0]]\n",
    "\n",
    "print(\"new array:\", array1)"
   ]
  },
  {
   "cell_type": "code",
   "execution_count": 17,
   "metadata": {},
   "outputs": [
    {
     "name": "stdout",
     "output_type": "stream",
     "text": [
      "[20, 30, 10]\n"
     ]
    }
   ],
   "source": [
    "arr = [10, 20, 30]\n",
    "temp = arr[0]\n",
    "\n",
    "for i in range(len(arr) - 1):\n",
    "    arr[i] = arr[i + 1]\n",
    "arr[-1] = temp  \n",
    "\n",
    "print(arr)"
   ]
  },
  {
   "cell_type": "code",
   "execution_count": 16,
   "metadata": {},
   "outputs": [
    {
     "name": "stdout",
     "output_type": "stream",
     "text": [
      "(2, 3, 4, 0, 1)\n"
     ]
    }
   ],
   "source": [
    "def left_rot_tuple(t, k):\n",
    "    return t[k:] + t[:k]\n",
    "input_value = (0, 1,2, 3, 4)  \n",
    "k = 2\n",
    "result = left_rot_tuple(input_value, k)\n",
    "print(result)"
   ]
  },
  {
   "cell_type": "markdown",
   "metadata": {},
   "source": [
    "# 1.1  Question1:\n",
    "* Given three lists of numbers, return the list of their XORs\n",
    "* all three lists have same size\n",
    "\n",
    "def xors(a1, a2, a3):\n",
    "    return [...]\n",
    "Example: Input: xors([1], [2], [3]): Output: [0]\n",
    "\n",
    "Input: xors([1, 2], [2, 3], [3, 4]):\n",
    "Output: [0, 5]"
   ]
  },
  {
   "cell_type": "code",
   "execution_count": 1,
   "metadata": {},
   "outputs": [],
   "source": [
    "def xors(a1,a2,a3):\n",
    "    l = []\n",
    "    if len(a1) == len(a2) and len(a1) == len(a3):\n",
    "        for i in range(len(a1)):\n",
    "            l.append(a1[i]^a2[i]^a3[i])\n",
    "    return l"
   ]
  },
  {
   "cell_type": "code",
   "execution_count": 2,
   "metadata": {},
   "outputs": [
    {
     "data": {
      "text/plain": [
       "[0]"
      ]
     },
     "execution_count": 2,
     "metadata": {},
     "output_type": "execute_result"
    }
   ],
   "source": [
    "xors([1], [2], [3])"
   ]
  },
  {
   "cell_type": "code",
   "execution_count": 3,
   "metadata": {},
   "outputs": [
    {
     "data": {
      "text/plain": [
       "[0, 5]"
      ]
     },
     "execution_count": 3,
     "metadata": {},
     "output_type": "execute_result"
    }
   ],
   "source": [
    "xors([1, 2], [2, 3], [3, 4])"
   ]
  },
  {
   "cell_type": "code",
   "execution_count": null,
   "metadata": {},
   "outputs": [],
   "source": [
    "1.2  Question 2:\n",
    "You have a list of numbers, you have to reverse it. You can not use the inbuilt function or slicing ([::-1]\n",
    "\n",
    "Level Up: Without using extra arr or you can say do it in place.\n",
    "\n",
    "def reverse(arr):\n",
    "    return []\n",
    "Example:\n",
    "\n",
    "Input: [1,2,3,4]\n",
    "Ouput: [4,3, 2, 1]"
   ]
  },
  {
   "cell_type": "code",
   "execution_count": 22,
   "metadata": {},
   "outputs": [],
   "source": [
    "def reverse(arr):\n",
    "    l = []\n",
    "    for i in range(1,len(arr)+1):\n",
    "        l.append(arr[-i])\n",
    "    return l"
   ]
  },
  {
   "cell_type": "code",
   "execution_count": 23,
   "metadata": {},
   "outputs": [
    {
     "data": {
      "text/plain": [
       "[4, 3, 2, 1]"
      ]
     },
     "execution_count": 23,
     "metadata": {},
     "output_type": "execute_result"
    }
   ],
   "source": [
    "reverse([1,2,3,4])"
   ]
  },
  {
   "cell_type": "code",
   "execution_count": 4,
   "metadata": {},
   "outputs": [],
   "source": [
    "#levelup\n",
    "def reverse(arr, i, j):\n",
    "    while i < j:\n",
    "        arr[i], arr[j] = arr[j], arr[i]\n",
    "        i += 1\n",
    "        j -= 1"
   ]
  },
  {
   "cell_type": "code",
   "execution_count": 6,
   "metadata": {},
   "outputs": [
    {
     "data": {
      "text/plain": [
       "[6, 5, 4, 3, 2, 1, 7, 8, 9, 10]"
      ]
     },
     "execution_count": 6,
     "metadata": {},
     "output_type": "execute_result"
    }
   ],
   "source": [
    "a = [1,2,3,4,5,6,7,8,9, 10]\n",
    "reverse(a, 0, 5)\n",
    "a"
   ]
  },
  {
   "cell_type": "code",
   "execution_count": null,
   "metadata": {},
   "outputs": [],
   "source": [
    "1.3  Question3\n",
    "Basic:\n",
    "\n",
    "arr = [10, 20, 30]\n",
    "\n",
    "+ Shift all values circularly to left by one place\n",
    "+ The array could have any number of elements\n",
    "Examples:\n",
    "\n",
    "- [10, 20, 30] should become [20, 30, 10]\n",
    "- [10, 20, 30, 40] -> [20, 30, 40, 10]\n",
    "- [10] -> [10]\n",
    "- [10, 20] -> [20, 10]\n",
    "Level Up: without using extra array but you can use extra variable\n",
    "\n",
    "Level Up: shift the arr by k places to left circularly without using extra array but you can use extra variable \n",
    "    Hint: Can you use the reversing logic to do the same"
   ]
  },
  {
   "cell_type": "code",
   "execution_count": 26,
   "metadata": {},
   "outputs": [],
   "source": [
    "def shift_circularly(array):\n",
    "    array1 = array[1:] + [array[0]]\n",
    "    return  array1"
   ]
  },
  {
   "cell_type": "code",
   "execution_count": 28,
   "metadata": {},
   "outputs": [
    {
     "data": {
      "text/plain": [
       "[20, 30, 10]"
      ]
     },
     "execution_count": 28,
     "metadata": {},
     "output_type": "execute_result"
    }
   ],
   "source": [
    "shift_circularly([10,20,30])"
   ]
  },
  {
   "cell_type": "code",
   "execution_count": 29,
   "metadata": {},
   "outputs": [
    {
     "data": {
      "text/plain": [
       "[20, 30, 40, 10]"
      ]
     },
     "execution_count": 29,
     "metadata": {},
     "output_type": "execute_result"
    }
   ],
   "source": [
    "shift_circularly([10,20,30,40])"
   ]
  },
  {
   "cell_type": "code",
   "execution_count": 30,
   "metadata": {},
   "outputs": [
    {
     "data": {
      "text/plain": [
       "[10]"
      ]
     },
     "execution_count": 30,
     "metadata": {},
     "output_type": "execute_result"
    }
   ],
   "source": [
    "shift_circularly([10])"
   ]
  },
  {
   "cell_type": "code",
   "execution_count": 31,
   "metadata": {},
   "outputs": [
    {
     "data": {
      "text/plain": [
       "[20, 10]"
      ]
     },
     "execution_count": 31,
     "metadata": {},
     "output_type": "execute_result"
    }
   ],
   "source": [
    "shift_circularly([10,20])"
   ]
  },
  {
   "cell_type": "code",
   "execution_count": 48,
   "metadata": {},
   "outputs": [],
   "source": [
    "#levelup - without using extra array\n",
    "\n",
    "def shift_left(array): \n",
    "    t = array[0]\n",
    "    for i in range(0,len(array)-1):\n",
    "        array[i] = array[i + 1]\n",
    "        array[-1] = t  \n",
    "    return array"
   ]
  },
  {
   "cell_type": "code",
   "execution_count": 49,
   "metadata": {},
   "outputs": [
    {
     "data": {
      "text/plain": [
       "[20, 10, 10]"
      ]
     },
     "execution_count": 49,
     "metadata": {},
     "output_type": "execute_result"
    }
   ],
   "source": [
    "shift_left([10,20,30])"
   ]
  },
  {
   "cell_type": "code",
   "execution_count": 35,
   "metadata": {},
   "outputs": [
    {
     "data": {
      "text/plain": [
       "[20, 30, 10, 10]"
      ]
     },
     "execution_count": 35,
     "metadata": {},
     "output_type": "execute_result"
    }
   ],
   "source": [
    "shift_left([10,20,30,40])"
   ]
  },
  {
   "cell_type": "code",
   "execution_count": 7,
   "metadata": {},
   "outputs": [],
   "source": [
    "def shift_extraspace(arr, k):\n",
    "    # 123456, shift by 3 -> 456123\n",
    "    result = arr[k:]\n",
    "#     for e in arr[:k]:\n",
    "#         result.append(e)\n",
    "    result = result + arr[:k]\n",
    "    return result"
   ]
  },
  {
   "cell_type": "code",
   "execution_count": 8,
   "metadata": {},
   "outputs": [
    {
     "data": {
      "text/plain": [
       "[4, 5, 6, 7, 1, 2, 3]"
      ]
     },
     "execution_count": 8,
     "metadata": {},
     "output_type": "execute_result"
    }
   ],
   "source": [
    "shift_extraspace([1,2,3,4,5,6,7], 3)"
   ]
  },
  {
   "cell_type": "markdown",
   "metadata": {},
   "source": [
    "# Q: I want to measure the rate of change of output with respect to input."
   ]
  },
  {
   "cell_type": "code",
   "execution_count": null,
   "metadata": {},
   "outputs": [],
   "source": [
    "def diff(f, x):"
   ]
  }
 ],
 "metadata": {
  "kernelspec": {
   "display_name": "Python 3",
   "language": "python",
   "name": "python3"
  },
  "language_info": {
   "codemirror_mode": {
    "name": "ipython",
    "version": 3
   },
   "file_extension": ".py",
   "mimetype": "text/x-python",
   "name": "python",
   "nbconvert_exporter": "python",
   "pygments_lexer": "ipython3",
   "version": "3.6.8"
  },
  "toc": {
   "base_numbering": 1,
   "nav_menu": {},
   "number_sections": true,
   "sideBar": true,
   "skip_h1_title": false,
   "title_cell": "Table of Contents",
   "title_sidebar": "Contents",
   "toc_cell": false,
   "toc_position": {},
   "toc_section_display": true,
   "toc_window_display": false
  }
 },
 "nbformat": 4,
 "nbformat_minor": 2
}
=======
march 1 and 2
>>>>>>> e84b6f931f4241c197573d2e0ef107bfa2b99682
=======
march 1 and 2
>>>>>>> e84b6f931f4241c197573d2e0ef107bfa2b99682
