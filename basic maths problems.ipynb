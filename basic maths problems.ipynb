{
 "cells": [
  {
   "cell_type": "markdown",
   "metadata": {},
   "source": [
    "# CONVERSION FROM ONE BASE TO ANOTHER\n"
   ]
  },
  {
   "cell_type": "code",
   "execution_count": 8,
   "metadata": {},
   "outputs": [],
   "source": [
    "def base_conversion(n,multiplier,base,result):        #using recursion\n",
    "    \n",
    "    digit  = n % 10\n",
    "    n = n // 10\n",
    "    result = result + multiplier * digit\n",
    "    multiplier = multiplier * base\n",
    "    if n == 0:\n",
    "        print (\"Final answer:\" , result)\n",
    "    else: \n",
    "        base_conversion(n,multiplier,base,result)\n"
   ]
  },
  {
   "cell_type": "code",
   "execution_count": 9,
   "metadata": {},
   "outputs": [
    {
     "name": "stdout",
     "output_type": "stream",
     "text": [
      "Final answer: 1518\n"
     ]
    }
   ],
   "source": [
    "base_conversion(2756,1,8,0)"
   ]
  },
  {
   "cell_type": "code",
   "execution_count": 10,
   "metadata": {},
   "outputs": [],
   "source": [
    "def base_conversion(n,multiplier,base,result):        #using while loop\n",
    "    while True:\n",
    "        digit  = n % 10\n",
    "        n = n // 10\n",
    "        result = result + multiplier * digit\n",
    "        multiplier = multiplier * base\n",
    "        if n == 0:\n",
    "            print (\"Final answer:\" , result)\n",
    "            break\n",
    "         \n",
    "        "
   ]
  },
  {
   "cell_type": "code",
   "execution_count": 11,
   "metadata": {},
   "outputs": [
    {
     "name": "stdout",
     "output_type": "stream",
     "text": [
      "Final answer: 1518\n"
     ]
    }
   ],
   "source": [
    "base_conversion(2756,1,8,0)"
   ]
  },
  {
   "cell_type": "code",
   "execution_count": 64,
   "metadata": {},
   "outputs": [],
   "source": [
    "SYMS = \"0123456789abcdefghijklmnopqrstuvwxyzABCDEFGHIJKLMNOPQRSTUVWXYZ@_\"\n",
    "def convert10tobase(num, base):\n",
    "    if base > len(SYMS) or base < 2:\n",
    "        print(\"Invalid base\")\n",
    "        return None\n",
    "    if num < base:\n",
    "        return SYMS[num]\n",
    "    else:\n",
    "        remainder = num % base\n",
    "        new_num = num // base\n",
    "        result = convert10tobase(new_num, base)\n",
    "        return result + SYMS[remainder]"
   ]
  },
  {
   "cell_type": "code",
   "execution_count": 65,
   "metadata": {},
   "outputs": [
    {
     "data": {
      "text/plain": [
       "'1010'"
      ]
     },
     "execution_count": 65,
     "metadata": {},
     "output_type": "execute_result"
    }
   ],
   "source": [
    "convert10tobase(10, 2)"
   ]
  },
  {
   "cell_type": "markdown",
   "metadata": {},
   "source": [
    "# TODO: Tower of Hanoi - research"
   ]
  },
  {
   "cell_type": "code",
   "execution_count": 1,
   "metadata": {},
   "outputs": [],
   "source": [
    "def move_disc(n,source,auxillary,target):\n",
    "    if n == 0:\n",
    "        return \n",
    "    \n",
    "    move_disc(n-1,source,target,auxillary)\n",
    "    print(f\"moving disc {n} from {source} to {target}\")\n",
    "    move_disc(n-1,auxillary,source,target)"
   ]
  },
  {
   "cell_type": "code",
   "execution_count": 3,
   "metadata": {},
   "outputs": [
    {
     "name": "stdout",
     "output_type": "stream",
     "text": [
      "moving disc 1 from source to auxillary\n",
      "moving disc 2 from source to target\n",
      "moving disc 1 from auxillary to target\n"
     ]
    }
   ],
   "source": [
    "move_disc(2,'source','auxillary','target')"
   ]
  },
  {
   "cell_type": "code",
   "execution_count": 4,
   "metadata": {},
   "outputs": [
    {
     "name": "stdout",
     "output_type": "stream",
     "text": [
      "moving disc 1 from source to target\n",
      "moving disc 2 from source to auxillary\n",
      "moving disc 1 from target to auxillary\n",
      "moving disc 3 from source to target\n",
      "moving disc 1 from auxillary to source\n",
      "moving disc 2 from auxillary to target\n",
      "moving disc 1 from source to target\n",
      "moving disc 4 from source to auxillary\n",
      "moving disc 1 from target to auxillary\n",
      "moving disc 2 from target to source\n",
      "moving disc 1 from auxillary to source\n",
      "moving disc 3 from target to auxillary\n",
      "moving disc 1 from source to target\n",
      "moving disc 2 from source to auxillary\n",
      "moving disc 1 from target to auxillary\n",
      "moving disc 5 from source to target\n",
      "moving disc 1 from auxillary to source\n",
      "moving disc 2 from auxillary to target\n",
      "moving disc 1 from source to target\n",
      "moving disc 3 from auxillary to source\n",
      "moving disc 1 from target to auxillary\n",
      "moving disc 2 from target to source\n",
      "moving disc 1 from auxillary to source\n",
      "moving disc 4 from auxillary to target\n",
      "moving disc 1 from source to target\n",
      "moving disc 2 from source to auxillary\n",
      "moving disc 1 from target to auxillary\n",
      "moving disc 3 from source to target\n",
      "moving disc 1 from auxillary to source\n",
      "moving disc 2 from auxillary to target\n",
      "moving disc 1 from source to target\n"
     ]
    }
   ],
   "source": [
    "move_disc(5,'source','auxillary','target')"
   ]
  },
  {
   "cell_type": "markdown",
   "metadata": {},
   "source": [
    "# Q: Create a condition on x1, x2 and x where print True if x is on the line joining x1 and x2"
   ]
  },
  {
   "cell_type": "code",
   "execution_count": 12,
   "metadata": {},
   "outputs": [],
   "source": [
    "def is_online(x1, x2, x):\n",
    "    if x1 <= x2 and x >= x1 and x <= x2:\n",
    "        return True\n",
    "    elif x2 <= x1 and x >= x2 and x <= x1:\n",
    "        return True\n",
    "    else: \n",
    "        return False\n",
    "    "
   ]
  },
  {
   "cell_type": "code",
   "execution_count": 13,
   "metadata": {},
   "outputs": [
    {
     "data": {
      "text/plain": [
       "False"
      ]
     },
     "execution_count": 13,
     "metadata": {},
     "output_type": "execute_result"
    }
   ],
   "source": [
    "is_online(1, 2, 0)"
   ]
  },
  {
   "cell_type": "code",
   "execution_count": 14,
   "metadata": {},
   "outputs": [
    {
     "data": {
      "text/plain": [
       "True"
      ]
     },
     "execution_count": 14,
     "metadata": {},
     "output_type": "execute_result"
    }
   ],
   "source": [
    "is_online(1, 2, 1.5)"
   ]
  },
  {
   "cell_type": "code",
   "execution_count": 15,
   "metadata": {},
   "outputs": [
    {
     "data": {
      "text/plain": [
       "True"
      ]
     },
     "execution_count": 15,
     "metadata": {},
     "output_type": "execute_result"
    }
   ],
   "source": [
    "is_online(-1, 2, 1.5)"
   ]
  },
  {
   "cell_type": "code",
   "execution_count": 16,
   "metadata": {},
   "outputs": [
    {
     "data": {
      "text/plain": [
       "False"
      ]
     },
     "execution_count": 16,
     "metadata": {},
     "output_type": "execute_result"
    }
   ],
   "source": [
    "is_online(1, -2, 1.5)"
   ]
  },
  {
   "cell_type": "markdown",
   "metadata": {},
   "source": [
    "# Q: Two lines x1 --> x2 and x3 --> x4, print True, if overlapping or touching otherwise print False"
   ]
  },
  {
   "cell_type": "code",
   "execution_count": 4,
   "metadata": {},
   "outputs": [],
   "source": [
    "def line_overlapping(x1,x2,x3,x4):\n",
    "    if max(x1,x2) < min(x3,x4) or max(x3,x4) < min(x1,x2):\n",
    "        return False\n",
    "    else:\n",
    "        return True"
   ]
  },
  {
   "cell_type": "code",
   "execution_count": 6,
   "metadata": {},
   "outputs": [
    {
     "data": {
      "text/plain": [
       "False"
      ]
     },
     "execution_count": 6,
     "metadata": {},
     "output_type": "execute_result"
    }
   ],
   "source": [
    "line_overlapping(4,5, 5.1, 8)"
   ]
  },
  {
   "cell_type": "code",
   "execution_count": null,
   "metadata": {},
   "outputs": [],
   "source": [
    "# Bisect or Binary Search\n",
    "\n",
    "#Q: \n",
    "\n",
    "def distance_2d(x1, y1, x2, y2):\n",
    "    return #the distance using hypotenus\n",
    "# Q:\n",
    "\n",
    "def distance_3d(x1, y1, z1, x2, y2, z2):\n",
    "    return #the distance using hypotenus\n",
    "\n",
    "# # Designing thermometer\n",
    "# when current 1, the teperature was 30\n",
    "# when currrent 2, the temperature was 35\n",
    "# when current will be 3, what would be the temperature 40\n",
    "# current = 4, temp = 45\n",
    "# current 2.1, temp = 35.5\n",
    "Q:\n",
    "# I want to measure the rate of change of output with respect to input.\n",
    "# Slight increase input and observe how much output changes\n",
    "# find out the ratio of change of output wrt input\n",
    "# def diff(f, x):\n",
    "    # rate of change of output wrt input\n",
    "# test this function on your various functions such as cube, 2*x**3 + 5*x"
   ]
  },
  {
   "cell_type": "markdown",
   "metadata": {},
   "source": [
    "# Q: Write your own algorithm or strategy to find log10. You can use 10**x.\n",
    "  "
   ]
  },
  {
   "cell_type": "code",
   "execution_count": 59,
   "metadata": {},
   "outputs": [],
   "source": [
    "def find_log10(n):\n",
    "    if n < 1:\n",
    "        l = -n\n",
    "    else:    \n",
    "        l = 0         #lower limit\n",
    "    u = n         # upper limit\n",
    "    while True:\n",
    "        mid = (l + u)/2\n",
    "        result = 10**mid\n",
    "        diff = abs(result - n)\n",
    "        if diff <= 0.00001:\n",
    "            return mid\n",
    "        if result > n:\n",
    "            u = mid\n",
    "        else:\n",
    "            l = mid\n",
    "        \n",
    "            \n",
    "      "
   ]
  },
  {
   "cell_type": "code",
   "execution_count": 60,
   "metadata": {},
   "outputs": [
    {
     "data": {
      "text/plain": [
       "2.722633922472596"
      ]
     },
     "execution_count": 60,
     "metadata": {},
     "output_type": "execute_result"
    }
   ],
   "source": [
    "find_log10(528)"
   ]
  },
  {
   "cell_type": "code",
   "execution_count": 61,
   "metadata": {},
   "outputs": [
    {
     "data": {
      "text/plain": [
       "1.000000238418579"
      ]
     },
     "execution_count": 61,
     "metadata": {},
     "output_type": "execute_result"
    }
   ],
   "source": [
    "find_log10(10)"
   ]
  },
  {
   "cell_type": "code",
   "execution_count": 62,
   "metadata": {},
   "outputs": [
    {
     "data": {
      "text/plain": [
       "0.17609024047851562"
      ]
     },
     "execution_count": 62,
     "metadata": {},
     "output_type": "execute_result"
    }
   ],
   "source": [
    "find_log10(1.5)"
   ]
  },
  {
   "cell_type": "code",
   "execution_count": 63,
   "metadata": {},
   "outputs": [
    {
     "data": {
      "text/plain": [
       "-0.301025390625"
      ]
     },
     "execution_count": 63,
     "metadata": {},
     "output_type": "execute_result"
    }
   ],
   "source": [
    "find_log10(0.5)"
   ]
  },
  {
   "cell_type": "markdown",
   "metadata": {},
   "source": [
    "# Q: Write SQ method, Write you own code to do SQRT"
   ]
  },
  {
   "cell_type": "code",
   "execution_count": 1,
   "metadata": {},
   "outputs": [],
   "source": [
    "def square(x):\n",
    "    return x*x"
   ]
  },
  {
   "cell_type": "code",
   "execution_count": 5,
   "metadata": {},
   "outputs": [
    {
     "data": {
      "text/plain": [
       "0.25"
      ]
     },
     "execution_count": 5,
     "metadata": {},
     "output_type": "execute_result"
    }
   ],
   "source": [
    "square(-0.5)"
   ]
  },
  {
   "cell_type": "code",
   "execution_count": 14,
   "metadata": {},
   "outputs": [],
   "source": [
    "def square_root(n):\n",
    "    if n is 1:\n",
    "        return 1\n",
    "    if n < 1:\n",
    "        l = n\n",
    "        u = 1\n",
    "    if n < 0:\n",
    "        return 'Error'\n",
    "    if n is 0:\n",
    "        return 0\n",
    "    if n > 1:       \n",
    "        l = 0\n",
    "        u = n\n",
    "    while True:\n",
    "        mid = (l+u)/2\n",
    "        result = mid*mid\n",
    "        diff = abs(result - n)\n",
    "        if diff < 0.000001:\n",
    "            return mid\n",
    "            break\n",
    "        else:\n",
    "            if result > n:\n",
    "                u = mid\n",
    "            else:\n",
    "                l = mid"
   ]
  },
  {
   "cell_type": "code",
   "execution_count": 15,
   "metadata": {},
   "outputs": [
    {
     "data": {
      "text/plain": [
       "5.000000074505806"
      ]
     },
     "execution_count": 15,
     "metadata": {},
     "output_type": "execute_result"
    }
   ],
   "source": [
    "square_root(25)"
   ]
  },
  {
   "cell_type": "code",
   "execution_count": 16,
   "metadata": {},
   "outputs": [
    {
     "data": {
      "text/plain": [
       "1"
      ]
     },
     "execution_count": 16,
     "metadata": {},
     "output_type": "execute_result"
    }
   ],
   "source": [
    "square_root(1)"
   ]
  },
  {
   "cell_type": "code",
   "execution_count": 17,
   "metadata": {},
   "outputs": [
    {
     "data": {
      "text/plain": [
       "0.6324558258056643"
      ]
     },
     "execution_count": 17,
     "metadata": {},
     "output_type": "execute_result"
    }
   ],
   "source": [
    "square_root(0.4)"
   ]
  },
  {
   "cell_type": "code",
   "execution_count": 18,
   "metadata": {},
   "outputs": [
    {
     "data": {
      "text/plain": [
       "'Error'"
      ]
     },
     "execution_count": 18,
     "metadata": {},
     "output_type": "execute_result"
    }
   ],
   "source": [
    "square_root(-4)"
   ]
  },
  {
   "cell_type": "markdown",
   "metadata": {},
   "source": [
    "# Q: First write you own method to cube and then do cube root"
   ]
  },
  {
   "cell_type": "code",
   "execution_count": 22,
   "metadata": {},
   "outputs": [],
   "source": [
    "def cube(x):\n",
    "    return x*x*x"
   ]
  },
  {
   "cell_type": "code",
   "execution_count": 23,
   "metadata": {},
   "outputs": [
    {
     "data": {
      "text/plain": [
       "729"
      ]
     },
     "execution_count": 23,
     "metadata": {},
     "output_type": "execute_result"
    }
   ],
   "source": [
    "cube(9)"
   ]
  },
  {
   "cell_type": "code",
   "execution_count": 19,
   "metadata": {},
   "outputs": [],
   "source": [
    "def cube_root(n):                         #using while loop\n",
    "    if n is 1:\n",
    "        return 1\n",
    "    if n < 1:\n",
    "        l = n\n",
    "        u = 1\n",
    "    if n < 0:\n",
    "        return 'Error'\n",
    "    if n is 0:\n",
    "        return 0\n",
    "    if n > 1:       \n",
    "        l = 0\n",
    "        u = n\n",
    "    while True:\n",
    "        mid = (l+u)/2\n",
    "        result = mid*mid*mid\n",
    "        diff = abs(result - n)\n",
    "        if diff < 0.000001:\n",
    "            return mid\n",
    "            break\n",
    "        else:\n",
    "            if result > n:\n",
    "                u = mid\n",
    "            else:\n",
    "                l = mid"
   ]
  },
  {
   "cell_type": "code",
   "execution_count": 20,
   "metadata": {},
   "outputs": [
    {
     "data": {
      "text/plain": [
       "3.000000022351742"
      ]
     },
     "execution_count": 20,
     "metadata": {},
     "output_type": "execute_result"
    }
   ],
   "source": [
    "cube_root(27)"
   ]
  },
  {
   "cell_type": "code",
   "execution_count": 21,
   "metadata": {},
   "outputs": [
    {
     "data": {
      "text/plain": [
       "1.392476534843445"
      ]
     },
     "execution_count": 21,
     "metadata": {},
     "output_type": "execute_result"
    }
   ],
   "source": [
    "cube_root(2.7)"
   ]
  },
  {
   "cell_type": "code",
   "execution_count": 22,
   "metadata": {},
   "outputs": [
    {
     "data": {
      "text/plain": [
       "0.9690522003173829"
      ]
     },
     "execution_count": 22,
     "metadata": {},
     "output_type": "execute_result"
    }
   ],
   "source": [
    "cube_root(0.91)"
   ]
  },
  {
   "cell_type": "markdown",
   "metadata": {},
   "source": [
    "# Q : Fourthroot"
   ]
  },
  {
   "cell_type": "code",
   "execution_count": 23,
   "metadata": {},
   "outputs": [],
   "source": [
    "def fourth_root(n):                         #using while loop\n",
    "    if n is 1:\n",
    "        return 1\n",
    "    if n < 1:\n",
    "        l = n\n",
    "        u = 1\n",
    "    if n < 0:\n",
    "        return 'Error'\n",
    "    if n is 0:\n",
    "        return 0\n",
    "    if n > 1:       \n",
    "        l = 0\n",
    "        u = n\n",
    "    while True:\n",
    "        mid = (l+u)/2\n",
    "        result = mid*mid*mid*mid\n",
    "        diff = abs(result - n)\n",
    "        if diff < 0.000001:\n",
    "            return mid\n",
    "            break\n",
    "        else:\n",
    "            if result > n:\n",
    "                u = mid\n",
    "            else:\n",
    "                l = mid"
   ]
  },
  {
   "cell_type": "code",
   "execution_count": 24,
   "metadata": {},
   "outputs": [
    {
     "data": {
      "text/plain": [
       "4.0"
      ]
     },
     "execution_count": 24,
     "metadata": {},
     "output_type": "execute_result"
    }
   ],
   "source": [
    "fourth_root(256)"
   ]
  },
  {
   "cell_type": "code",
   "execution_count": 25,
   "metadata": {},
   "outputs": [
    {
     "data": {
      "text/plain": [
       "0.8650613403320313"
      ]
     },
     "execution_count": 25,
     "metadata": {},
     "output_type": "execute_result"
    }
   ],
   "source": [
    "fourth_root(0.56)"
   ]
  },
  {
   "cell_type": "code",
   "execution_count": 26,
   "metadata": {},
   "outputs": [
    {
     "data": {
      "text/plain": [
       "1.2935686588287352"
      ]
     },
     "execution_count": 26,
     "metadata": {},
     "output_type": "execute_result"
    }
   ],
   "source": [
    "fourth_root(2.8)"
   ]
  },
  {
   "cell_type": "markdown",
   "metadata": {},
   "source": [
    "# Q: nth root\n"
   ]
  },
  {
   "cell_type": "code",
   "execution_count": 29,
   "metadata": {},
   "outputs": [],
   "source": [
    "def nth_root(n):\n",
    "    nth = float(input(\"Enter the value of nth root:\"))\n",
    "    if n is 1:\n",
    "        return 1\n",
    "    if n < 1:\n",
    "        l = n\n",
    "        u = 1\n",
    "    if n < 0:\n",
    "        return 'Error'\n",
    "    if n is 0:\n",
    "        return 0\n",
    "    if n > 1:       \n",
    "        l = 0\n",
    "        u = n\n",
    "    while True:\n",
    "        mid = (l+u)/2\n",
    "        result = mid**nth\n",
    "        diff = abs(result - n)\n",
    "        if diff < 0.000001:\n",
    "            return mid\n",
    "            break\n",
    "        else:\n",
    "            if result > n:\n",
    "                u = mid\n",
    "            else:\n",
    "                l = mid"
   ]
  },
  {
   "cell_type": "code",
   "execution_count": 30,
   "metadata": {},
   "outputs": [
    {
     "name": "stdout",
     "output_type": "stream",
     "text": [
      "Enter the value of nth root:9\n"
     ]
    },
    {
     "data": {
      "text/plain": [
       "2.1756062268668757"
      ]
     },
     "execution_count": 30,
     "metadata": {},
     "output_type": "execute_result"
    }
   ],
   "source": [
    "nth_root(1092)"
   ]
  },
  {
   "cell_type": "code",
   "execution_count": 31,
   "metadata": {},
   "outputs": [
    {
     "name": "stdout",
     "output_type": "stream",
     "text": [
      "Enter the value of nth root:4\n"
     ]
    },
    {
     "data": {
      "text/plain": [
       "0.9740036010742187"
      ]
     },
     "execution_count": 31,
     "metadata": {},
     "output_type": "execute_result"
    }
   ],
   "source": [
    "nth_root(0.9)"
   ]
  },
  {
   "cell_type": "code",
   "execution_count": 32,
   "metadata": {},
   "outputs": [
    {
     "name": "stdout",
     "output_type": "stream",
     "text": [
      "Enter the value of nth root:2\n"
     ]
    },
    {
     "data": {
      "text/plain": [
       "'Error'"
      ]
     },
     "execution_count": 32,
     "metadata": {},
     "output_type": "execute_result"
    }
   ],
   "source": [
    "nth_root(-42)"
   ]
  },
  {
   "cell_type": "markdown",
   "metadata": {},
   "source": [
    "# Q: find hypotenuse of a right angled triangle"
   ]
  },
  {
   "cell_type": "code",
   "execution_count": 69,
   "metadata": {},
   "outputs": [],
   "source": [
    "import math\n",
    "def find_distance(point1, point2):\n",
    "    x1, y1 = point1\n",
    "    x2, y2 = point2\n",
    "    base = x2 - x1\n",
    "    p = y2 - y1\n",
    "    return math.sqrt(base*base + p * p)"
   ]
  },
  {
   "cell_type": "code",
   "execution_count": 70,
   "metadata": {},
   "outputs": [
    {
     "data": {
      "text/plain": [
       "2.8284271247461903"
      ]
     },
     "execution_count": 70,
     "metadata": {},
     "output_type": "execute_result"
    }
   ],
   "source": [
    "find_distance((1,2), (3,4))"
   ]
  },
  {
   "cell_type": "code",
   "execution_count": 71,
   "metadata": {},
   "outputs": [],
   "source": [
    "def find_hypotenuse(b, h):\n",
    "    return math.sqrt(b*b + h*h)"
   ]
  },
  {
   "cell_type": "code",
   "execution_count": 72,
   "metadata": {},
   "outputs": [
    {
     "data": {
      "text/plain": [
       "5.0"
      ]
     },
     "execution_count": 72,
     "metadata": {},
     "output_type": "execute_result"
    }
   ],
   "source": [
    "find_hypotenuse(3, 4)"
   ]
  },
  {
   "cell_type": "markdown",
   "metadata": {},
   "source": [
    "# Q: A rectangle is represented by two opposite corners. Each corner is represented a two number (x, y). Given two rectangles, return True if they are touching or overlapping otherwise return false.\n"
   ]
  },
  {
   "cell_type": "code",
   "execution_count": 7,
   "metadata": {},
   "outputs": [],
   "source": [
    "def is_overlapping(fx1,fy1,fx2,fy2,sx1,sy1,sx2,sy2):\n",
    "    if max (fx1,fx2) < min(sx1,sx2) and max (fy1,fy2) < min(sy1,sy2):\n",
    "        return False\n",
    "    if max (sx1,sx2) < min(fx1,fx2) and max (sy1,sy2) < min(fy1,fy2):\n",
    "        return False\n",
    "    else:\n",
    "        return True\n",
    "    "
   ]
  },
  {
   "cell_type": "code",
   "execution_count": 8,
   "metadata": {},
   "outputs": [
    {
     "data": {
      "text/plain": [
       "False"
      ]
     },
     "execution_count": 8,
     "metadata": {},
     "output_type": "execute_result"
    }
   ],
   "source": [
    "is_overlapping(1,2,3,4,5,6,7,8)"
   ]
  },
  {
   "cell_type": "code",
   "execution_count": 9,
   "metadata": {},
   "outputs": [
    {
     "data": {
      "text/plain": [
       "False"
      ]
     },
     "execution_count": 9,
     "metadata": {},
     "output_type": "execute_result"
    }
   ],
   "source": [
    "is_overlapping(8,7,6,5,4,3,2,1)"
   ]
  },
  {
   "cell_type": "code",
   "execution_count": 10,
   "metadata": {},
   "outputs": [
    {
     "data": {
      "text/plain": [
       "False"
      ]
     },
     "execution_count": 10,
     "metadata": {},
     "output_type": "execute_result"
    }
   ],
   "source": [
    "is_overlapping(8.5,7,6,5,4,3,2,1)"
   ]
  },
  {
   "cell_type": "code",
   "execution_count": 11,
   "metadata": {},
   "outputs": [
    {
     "data": {
      "text/plain": [
       "True"
      ]
     },
     "execution_count": 11,
     "metadata": {},
     "output_type": "execute_result"
    }
   ],
   "source": [
    "is_overlapping(1,2,3,4,3,4,5,6)"
   ]
  },
  {
   "cell_type": "code",
   "execution_count": 12,
   "metadata": {},
   "outputs": [
    {
     "data": {
      "text/plain": [
       "True"
      ]
     },
     "execution_count": 12,
     "metadata": {},
     "output_type": "execute_result"
    }
   ],
   "source": [
    "is_overlapping(1,2,5,6,3,4,7,8)"
   ]
  },
  {
   "cell_type": "markdown",
   "metadata": {},
   "source": [
    "# Q: Designing thermometer\n"
   ]
  },
  {
   "cell_type": "code",
   "execution_count": null,
   "metadata": {},
   "outputs": [],
   "source": [
    "# i1 -> t1\n",
    "# i2 -> t2\n",
    "\n",
    "# ---\n",
    "# (i2 - i1) --> (t2 - t1)\n",
    "# 1 -- (t2 - t1)/(i2 - i1) # Lets call it m\n",
    "# (x - i1) -> (x - i1) * m\n",
    "\n",
    "# temperature for x will be t1 + (x - i1) * m"
   ]
  },
  {
   "cell_type": "code",
   "execution_count": 37,
   "metadata": {},
   "outputs": [],
   "source": [
    "calibration_data = [[1,30], [2,35]]\n",
    "def tell_temp(calibration_data, current):\n",
    "    i = 0                                                                    \n",
    "    diff1 = calibration_data[i+1][i] - calibration_data[i][i]\n",
    "    diff2 = calibration_data[i+1][i+1] - calibration_data[i][i+1]\n",
    "    temperature = ((diff2/diff1) * (current -1 )) + calibration_data[i][i+1]          #why current - 1?\n",
    "    return temperature\n"
   ]
  },
  {
   "cell_type": "code",
   "execution_count": 38,
   "metadata": {},
   "outputs": [
    {
     "data": {
      "text/plain": [
       "40.0"
      ]
     },
     "execution_count": 38,
     "metadata": {},
     "output_type": "execute_result"
    }
   ],
   "source": [
    "tell_temp(calibration_data, 3)"
   ]
  },
  {
   "cell_type": "code",
   "execution_count": 39,
   "metadata": {},
   "outputs": [
    {
     "data": {
      "text/plain": [
       "45.0"
      ]
     },
     "execution_count": 39,
     "metadata": {},
     "output_type": "execute_result"
    }
   ],
   "source": [
    "tell_temp(calibration_data, 4)"
   ]
  },
  {
   "cell_type": "code",
   "execution_count": 40,
   "metadata": {},
   "outputs": [
    {
     "data": {
      "text/plain": [
       "35.5"
      ]
     },
     "execution_count": 40,
     "metadata": {},
     "output_type": "execute_result"
    }
   ],
   "source": [
    "tell_temp(calibration_data, 2.1)"
   ]
  },
  {
   "cell_type": "markdown",
   "metadata": {},
   "source": [
    "# Q: In your number system. Represent you number as list of digits and create a function to add 1 to your number."
   ]
  },
  {
   "cell_type": "code",
   "execution_count": 1,
   "metadata": {},
   "outputs": [],
   "source": [
    "def add1_base5(num):\n",
    "    i = 1\n",
    "    if num [-i] is 4:\n",
    "        num [-i] = 0\n",
    "        num [-i-1] = num [-i-1] + 1\n",
    "    else:\n",
    "        if num [-i] < 4:\n",
    "            num[-i] = num [-i] + 1\n",
    "\n",
    "    return num \n"
   ]
  },
  {
   "cell_type": "code",
   "execution_count": 2,
   "metadata": {},
   "outputs": [
    {
     "data": {
      "text/plain": [
       "[1, 3, 4, 0]"
      ]
     },
     "execution_count": 2,
     "metadata": {},
     "output_type": "execute_result"
    }
   ],
   "source": [
    "add1_base5([1, 3, 3, 4])"
   ]
  },
  {
   "cell_type": "code",
   "execution_count": 3,
   "metadata": {},
   "outputs": [
    {
     "data": {
      "text/plain": [
       "[1, 4, 3, 3]"
      ]
     },
     "execution_count": 3,
     "metadata": {},
     "output_type": "execute_result"
    }
   ],
   "source": [
    "add1_base5([1, 4, 3, 2])"
   ]
  },
  {
   "cell_type": "markdown",
   "metadata": {},
   "source": [
    "# Q:Start with [0,0,0,0] keep adding 1 to it untill the lists exhausts"
   ]
  },
  {
   "cell_type": "code",
   "execution_count": 39,
   "metadata": {},
   "outputs": [
    {
     "name": "stdout",
     "output_type": "stream",
     "text": [
      "[1, 1, 1, 1]\n"
     ]
    }
   ],
   "source": [
    "l = [0,0,0,0]\n",
    "i = 0\n",
    "while i < len(l):\n",
    "    l[i] = l[i] + 1\n",
    "    i = i + 1\n",
    "print(l)"
   ]
  },
  {
   "cell_type": "code",
   "execution_count": null,
   "metadata": {},
   "outputs": [],
   "source": []
  }
 ],
 "metadata": {
  "kernelspec": {
   "display_name": "Python 3",
   "language": "python",
   "name": "python3"
  },
  "language_info": {
   "codemirror_mode": {
    "name": "ipython",
    "version": 3
   },
   "file_extension": ".py",
   "mimetype": "text/x-python",
   "name": "python",
   "nbconvert_exporter": "python",
   "pygments_lexer": "ipython3",
   "version": "3.6.8"
  },
  "toc": {
   "base_numbering": 1,
   "nav_menu": {},
   "number_sections": true,
   "sideBar": true,
   "skip_h1_title": false,
   "title_cell": "Table of Contents",
   "title_sidebar": "Contents",
   "toc_cell": false,
   "toc_position": {},
   "toc_section_display": true,
   "toc_window_display": false
  }
 },
 "nbformat": 4,
 "nbformat_minor": 2
}
