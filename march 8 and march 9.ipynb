{
 "cells": [
  {
   "cell_type": "code",
   "execution_count": 1,
   "metadata": {},
   "outputs": [
    {
     "name": "stdout",
     "output_type": "stream",
     "text": [
      "0 10\n",
      "1 20\n",
      "2 30\n",
      "3 40\n"
     ]
    }
   ],
   "source": [
    "a = [10,20,30,40]\n",
    "for i, e in enumerate(a):\n",
    "    print(i, e)"
   ]
  },
  {
   "cell_type": "code",
   "execution_count": 2,
   "metadata": {},
   "outputs": [
    {
     "name": "stdout",
     "output_type": "stream",
     "text": [
      "0 sandeep\n",
      "1 raviteja\n",
      "2 manish\n",
      "3 sourabh\n"
     ]
    }
   ],
   "source": [
    "names = [\"sandeep\", \"raviteja\", \"manish\", \"sourabh\"]\n",
    "i = 0\n",
    "for name in names:\n",
    "    print(i, name)\n",
    "    i += 1"
   ]
  },
  {
   "cell_type": "code",
   "execution_count": 3,
   "metadata": {},
   "outputs": [
    {
     "name": "stdout",
     "output_type": "stream",
     "text": [
      "0 sandeep\n",
      "1 raviteja\n",
      "2 manish\n",
      "3 sourabh\n"
     ]
    }
   ],
   "source": [
    "names = [\"sandeep\", \"raviteja\", \"manish\", \"sourabh\"]\n",
    "for i, name in enumerate(names):\n",
    "    print(i, name)"
   ]
  },
  {
   "cell_type": "code",
   "execution_count": 8,
   "metadata": {},
   "outputs": [],
   "source": [
    "def my_zip(other, names):\n",
    "    output = []\n",
    "    for i in range(len(names)):\n",
    "        oe = (other[i], names[i])\n",
    "        output.append(oe)\n",
    "    return output"
   ]
  },
  {
   "cell_type": "code",
   "execution_count": 11,
   "metadata": {},
   "outputs": [
    {
     "data": {
      "text/plain": [
       "[(1, 'sandeep'), (2, 'raviteja'), (3, 'manish'), (4, 'sourabh')]"
      ]
     },
     "execution_count": 11,
     "metadata": {},
     "output_type": "execute_result"
    }
   ],
   "source": [
    "my_zip ([1, 2, 3, 4],[\"sandeep\", \"raviteja\", \"manish\", \"sourabh\"])\n",
    "\n",
    "\n"
   ]
  },
  {
   "cell_type": "code",
   "execution_count": 12,
   "metadata": {},
   "outputs": [
    {
     "data": {
      "text/plain": [
       "[('sandeep', 1), ('raviteja', 2), ('manish', 3), ('sourabh', 4)]"
      ]
     },
     "execution_count": 12,
     "metadata": {},
     "output_type": "execute_result"
    }
   ],
   "source": [
    "names = [\"sandeep\", \"raviteja\", \"manish\", \"sourabh\"]\n",
    "other = [1, 2, 3, 4]\n",
    "list(zip(names, other))"
   ]
  },
  {
   "cell_type": "code",
   "execution_count": 13,
   "metadata": {},
   "outputs": [
    {
     "name": "stdout",
     "output_type": "stream",
     "text": [
      "12\n",
      "13\n",
      "14\n"
     ]
    }
   ],
   "source": [
    "numstr = [\"12\", \"13\", \"14\"]\n",
    "for e in numstr:\n",
    "    print(int(e))\n",
    "#map"
   ]
  },
  {
   "cell_type": "code",
   "execution_count": 14,
   "metadata": {},
   "outputs": [
    {
     "data": {
      "text/plain": [
       "[12, 13, 14]"
      ]
     },
     "execution_count": 14,
     "metadata": {},
     "output_type": "execute_result"
    }
   ],
   "source": [
    "list(map(int, numstr))"
   ]
  },
  {
   "cell_type": "markdown",
   "metadata": {},
   "source": [
    "Print all n digit numbers in base m.\n",
    "\n",
    "Q: Write a function to print all possible numbers of length n where each digit could go from 0 to m-1.\n",
    "\n",
    "Note: Don't use https://docs.python.org/3/library/itertools.html\n",
    "\n",
    "def generate(n,m):\n",
    "\n",
    "generate(1, 3) 0 1 2\n",
    "\n",
    "generate(2, 2) 00 01 10 11\n",
    "\n",
    "generate(3, 3) 000 001 002 010 011 012 020 021 022 100 101 102 110 111 112 120 121 122 200 201 202 210 211 212 220 221 222\n",
    "\n",
    "Q: Print all possible permutations of your name. Same length.\n",
    "    \n",
    "def perms(s):\n",
    "    ...\n",
    "    \n",
    "def perms(s):\n",
    "    if len(s) == 1:\n",
    "        return s\n",
    "    else:\n",
    "        last = s[-1]\n",
    "        result = perms(s[:-1])\n",
    "        # insert last into every position of ever element in result.\n",
    "        \n",
    "\n"
   ]
  },
  {
   "cell_type": "markdown",
   "metadata": {},
   "source": [
    "# Q: You have two point in n-dimension, you have to compute a distance between them.\n"
   ]
  },
  {
   "cell_type": "code",
   "execution_count": 11,
   "metadata": {},
   "outputs": [],
   "source": [
    "import math\n",
    "def dist (A, B):\n",
    "    if len(A) == len(B):\n",
    "        distance = 0\n",
    "        for i in range(len(A)):\n",
    "            dis = (A[i] - B[i])**2\n",
    "            distance = distance + dis\n",
    "    return math.sqrt(distance)"
   ]
  },
  {
   "cell_type": "code",
   "execution_count": 12,
   "metadata": {},
   "outputs": [
    {
     "data": {
      "text/plain": [
       "2.0"
      ]
     },
     "execution_count": 12,
     "metadata": {},
     "output_type": "execute_result"
    }
   ],
   "source": [
    "dist ([3], [5])"
   ]
  },
  {
   "cell_type": "code",
   "execution_count": 13,
   "metadata": {},
   "outputs": [
    {
     "data": {
      "text/plain": [
       "7.211102550927978"
      ]
     },
     "execution_count": 13,
     "metadata": {},
     "output_type": "execute_result"
    }
   ],
   "source": [
    "dist ([3,7], [9,11])"
   ]
  },
  {
   "cell_type": "code",
   "execution_count": 14,
   "metadata": {},
   "outputs": [
    {
     "data": {
      "text/plain": [
       "10.295630140987"
      ]
     },
     "execution_count": 14,
     "metadata": {},
     "output_type": "execute_result"
    }
   ],
   "source": [
    "dist ([3,7,10,4,6], [9,11,3,5,8])"
   ]
  },
  {
   "cell_type": "markdown",
   "metadata": {},
   "source": [
    "1. Time complexity -> Order Of(How many elements)\n",
    "2. Memory / Space Complexity -> Order of (How many elements)"
   ]
  },
  {
   "cell_type": "code",
   "execution_count": 15,
   "metadata": {},
   "outputs": [
    {
     "data": {
      "text/plain": [
       "2"
      ]
     },
     "execution_count": 15,
     "metadata": {},
     "output_type": "execute_result"
    }
   ],
   "source": [
    "min([10,2,3,4])"
   ]
  },
  {
   "cell_type": "code",
   "execution_count": 16,
   "metadata": {},
   "outputs": [],
   "source": [
    "def mymin(arr):\n",
    "    result = arr[0]\n",
    "    for i in range(1, len(arr)):\n",
    "        if arr[i] < result:\n",
    "            result = arr[i]\n",
    "    return result"
   ]
  },
  {
   "cell_type": "code",
   "execution_count": 17,
   "metadata": {},
   "outputs": [
    {
     "data": {
      "text/plain": [
       "-4"
      ]
     },
     "execution_count": 17,
     "metadata": {},
     "output_type": "execute_result"
    }
   ],
   "source": [
    "mymin([10,2,3,-4])"
   ]
  },
  {
   "cell_type": "code",
   "execution_count": 18,
   "metadata": {},
   "outputs": [
    {
     "data": {
      "text/plain": [
       "-50"
      ]
     },
     "execution_count": 18,
     "metadata": {},
     "output_type": "execute_result"
    }
   ],
   "source": [
    "def mymin2(arr):\n",
    "    arr.sort() # n*log(n)\n",
    "    return arr[0]\n",
    "mymin2([4,5,6, -2, 10, 100, -50, 1000])"
   ]
  },
  {
   "cell_type": "code",
   "execution_count": 20,
   "metadata": {},
   "outputs": [
    {
     "data": {
      "text/plain": [
       "[-50, -2, 4]"
      ]
     },
     "execution_count": 20,
     "metadata": {},
     "output_type": "execute_result"
    }
   ],
   "source": [
    "#def min_head(arr, k):\n",
    "    # Give me k smallest numbers\n",
    "    # We will iterative call our min method k times\n",
    "    # Order(n*k)\n",
    "def min_head(arr, k):\n",
    "    arr.sort() # Order(n*log(n) )\n",
    "    return arr[:k]\n",
    "min_head([4,5,6, -2, 10, 100, -50, 1000],3)"
   ]
  },
  {
   "cell_type": "markdown",
   "metadata": {},
   "source": [
    "Level Up:\n",
    "We need to predict the load on our website in near realtime.\n",
    "\n",
    "t = 0, load = 10 t = 1, load = 15 t = 2, load = 30 t = 3, load = ? t = 4, load = ?\n",
    "\n",
    "First write a method called fit(data) that returns a model and then write a method called predict(model, time) that returns the load\n",
    "\n",
    "It is known the load on the website is a non-linear equations i.e. load = a * t^2 + b * t + c\n",
    "\n",
    "Start with pen and papers. Do it manually first and then come up with a stragetegy to do with code."
   ]
  },
  {
   "cell_type": "code",
   "execution_count": null,
   "metadata": {},
   "outputs": [],
   "source": [
    "def fit(data):\n",
    "    \n",
    "    t1,t2,t3=data[0][0],data[1][0],data[2][0]\n",
    "    load1,load2,load3=data[0][1],data[1][1],data[2][1]\n",
    "    #for i in range(0,len(data)):\n",
    "    #a*t1**2+b*t1+c = l1    # c = 10\n",
    "    #a*t2**2+b*t2+c = l2   #equation1\n",
    "    #a*t3**2+b*t3+c = l3   #equation2\n",
    "    #a*t3**2+b*t3+c - (a*t2**2+b*t2+c) = load3 - load2    #eq2-eq1\n",
    "    if t1 == 0:\n",
    "        c = load1\n",
    "    if t2 == 1:\n",
    "        a+b = load2 - c\n",
    "    if t3 == 2:\n",
    "        4*a + 2*b = load3 - c\n",
    "        \n",
    "    return [a,b,c]"
   ]
  }
 ],
 "metadata": {
  "kernelspec": {
   "display_name": "Python 3",
   "language": "python",
   "name": "python3"
  },
  "language_info": {
   "codemirror_mode": {
    "name": "ipython",
    "version": 3
   },
   "file_extension": ".py",
   "mimetype": "text/x-python",
   "name": "python",
   "nbconvert_exporter": "python",
   "pygments_lexer": "ipython3",
   "version": "3.6.8"
  },
  "toc": {
   "base_numbering": 1,
   "nav_menu": {},
   "number_sections": true,
   "sideBar": true,
   "skip_h1_title": false,
   "title_cell": "Table of Contents",
   "title_sidebar": "Contents",
   "toc_cell": false,
   "toc_position": {},
   "toc_section_display": true,
   "toc_window_display": false
  }
 },
 "nbformat": 4,
 "nbformat_minor": 2
}
