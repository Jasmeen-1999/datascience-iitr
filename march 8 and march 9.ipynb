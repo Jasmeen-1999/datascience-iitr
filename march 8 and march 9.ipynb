{
 "cells": [
  {
   "cell_type": "code",
   "execution_count": 1,
   "metadata": {},
   "outputs": [
    {
     "name": "stdout",
     "output_type": "stream",
     "text": [
      "0 10\n",
      "1 20\n",
      "2 30\n",
      "3 40\n"
     ]
    }
   ],
   "source": [
    "a = [10,20,30,40]\n",
    "for i, e in enumerate(a):\n",
    "    print(i, e)"
   ]
  },
  {
   "cell_type": "code",
   "execution_count": 2,
   "metadata": {},
   "outputs": [
    {
     "name": "stdout",
     "output_type": "stream",
     "text": [
      "0 sandeep\n",
      "1 raviteja\n",
      "2 manish\n",
      "3 sourabh\n"
     ]
    }
   ],
   "source": [
    "names = [\"sandeep\", \"raviteja\", \"manish\", \"sourabh\"]\n",
    "i = 0\n",
    "for name in names:\n",
    "    print(i, name)\n",
    "    i += 1"
   ]
  },
  {
   "cell_type": "code",
   "execution_count": 3,
   "metadata": {},
   "outputs": [
    {
     "name": "stdout",
     "output_type": "stream",
     "text": [
      "0 sandeep\n",
      "1 raviteja\n",
      "2 manish\n",
      "3 sourabh\n"
     ]
    }
   ],
   "source": [
    "names = [\"sandeep\", \"raviteja\", \"manish\", \"sourabh\"]\n",
    "for i, name in enumerate(names):\n",
    "    print(i, name)"
   ]
  },
  {
   "cell_type": "code",
   "execution_count": 8,
   "metadata": {},
   "outputs": [],
   "source": [
    "def my_zip(other, names):\n",
    "    output = []\n",
    "    for i in range(len(names)):\n",
    "        oe = (other[i], names[i])\n",
    "        output.append(oe)\n",
    "    return output"
   ]
  },
  {
   "cell_type": "code",
   "execution_count": 11,
   "metadata": {},
   "outputs": [
    {
     "data": {
      "text/plain": [
       "[(1, 'sandeep'), (2, 'raviteja'), (3, 'manish'), (4, 'sourabh')]"
      ]
     },
     "execution_count": 11,
     "metadata": {},
     "output_type": "execute_result"
    }
   ],
   "source": [
    "my_zip ([1, 2, 3, 4],[\"sandeep\", \"raviteja\", \"manish\", \"sourabh\"])\n",
    "\n",
    "\n"
   ]
  },
  {
   "cell_type": "code",
   "execution_count": 12,
   "metadata": {},
   "outputs": [
    {
     "data": {
      "text/plain": [
       "[('sandeep', 1), ('raviteja', 2), ('manish', 3), ('sourabh', 4)]"
      ]
     },
     "execution_count": 12,
     "metadata": {},
     "output_type": "execute_result"
    }
   ],
   "source": [
    "names = [\"sandeep\", \"raviteja\", \"manish\", \"sourabh\"]\n",
    "other = [1, 2, 3, 4]\n",
    "list(zip(names, other))"
   ]
  },
  {
   "cell_type": "code",
   "execution_count": 13,
   "metadata": {},
   "outputs": [
    {
     "name": "stdout",
     "output_type": "stream",
     "text": [
      "12\n",
      "13\n",
      "14\n"
     ]
    }
   ],
   "source": [
    "numstr = [\"12\", \"13\", \"14\"]\n",
    "for e in numstr:\n",
    "    print(int(e))\n",
    "#map"
   ]
  },
  {
   "cell_type": "code",
   "execution_count": 14,
   "metadata": {},
   "outputs": [
    {
     "data": {
      "text/plain": [
       "[12, 13, 14]"
      ]
     },
     "execution_count": 14,
     "metadata": {},
     "output_type": "execute_result"
    }
   ],
   "source": [
    "list(map(int, numstr))"
   ]
  },
  {
   "cell_type": "markdown",
   "metadata": {},
   "source": [
    "Print all n digit numbers in base m.\n",
    "\n",
    "Q: Write a function to print all possible numbers of length n where each digit could go from 0 to m-1.\n",
    "\n",
    "Note: Don't use https://docs.python.org/3/library/itertools.html\n",
    "\n",
    "def generate(n,m):\n",
    "\n",
    "generate(1, 3) 0 1 2\n",
    "\n",
    "generate(2, 2) 00 01 10 11\n",
    "\n",
    "generate(3, 3) 000 001 002 010 011 012 020 021 022 100 101 102 110 111 112 120 121 122 200 201 202 210 211 212 220 221 222\n",
    "\n",
    "Q: Print all possible permutations of your name. Same length.\n",
    "    \n",
    "def perms(s):\n",
    "    ...\n",
    "    \n",
    "def perms(s):\n",
    "    if len(s) == 1:\n",
    "        return s\n",
    "    else:\n",
    "        last = s[-1]\n",
    "        result = perms(s[:-1])\n",
    "        # insert last into every position of ever element in result.\n",
    "        \n",
    "\n"
   ]
  },
  {
   "cell_type": "markdown",
   "metadata": {},
   "source": [
    "# Print all n digit numbers in base m."
   ]
  },
  {
   "cell_type": "code",
   "execution_count": 1,
   "metadata": {},
   "outputs": [],
   "source": [
    "def printnums(n, m, tab=\"\"):\n",
    "    print(f\"{tab} n = {n}, m = {m}\")\n",
    "    if n == 0:\n",
    "        result = [\"\"]\n",
    "        print(f\"{tab} {result} \")\n",
    "        return result\n",
    "    perms = printnums(n - 1, m, tab=\"\\t\" + tab)\n",
    "    result = []\n",
    "    for mm in range(m):\n",
    "        for perm in perms:\n",
    "            result.append(str(mm) + perm)\n",
    "    print(f\"{tab} {result} \")\n",
    "    return result"
   ]
  },
  {
   "cell_type": "code",
   "execution_count": 2,
   "metadata": {},
   "outputs": [
    {
     "name": "stdout",
     "output_type": "stream",
     "text": [
      " n = 3, m = 3\n",
      "\t n = 2, m = 3\n",
      "\t\t n = 1, m = 3\n",
      "\t\t\t n = 0, m = 3\n",
      "\t\t\t [''] \n",
      "\t\t ['0', '1', '2'] \n",
      "\t ['00', '01', '02', '10', '11', '12', '20', '21', '22'] \n",
      " ['000', '001', '002', '010', '011', '012', '020', '021', '022', '100', '101', '102', '110', '111', '112', '120', '121', '122', '200', '201', '202', '210', '211', '212', '220', '221', '222'] \n"
     ]
    },
    {
     "data": {
      "text/plain": [
       "['000',\n",
       " '001',\n",
       " '002',\n",
       " '010',\n",
       " '011',\n",
       " '012',\n",
       " '020',\n",
       " '021',\n",
       " '022',\n",
       " '100',\n",
       " '101',\n",
       " '102',\n",
       " '110',\n",
       " '111',\n",
       " '112',\n",
       " '120',\n",
       " '121',\n",
       " '122',\n",
       " '200',\n",
       " '201',\n",
       " '202',\n",
       " '210',\n",
       " '211',\n",
       " '212',\n",
       " '220',\n",
       " '221',\n",
       " '222']"
      ]
     },
     "execution_count": 2,
     "metadata": {},
     "output_type": "execute_result"
    }
   ],
   "source": [
    "printnums(3, 3)"
   ]
  },
  {
   "cell_type": "code",
   "execution_count": 3,
   "metadata": {},
   "outputs": [],
   "source": [
    "def next_numb(arr, m): # arr - [0, 0, 0] -> []\n",
    "    i = len(arr) - 1\n",
    "    while i > -1:\n",
    "        if arr[i] < m - 1:\n",
    "            arr[i] += 1\n",
    "            return True\n",
    "        else:\n",
    "            arr[i] = 0\n",
    "            i -= 1\n",
    "    return False"
   ]
  },
  {
   "cell_type": "code",
   "execution_count": 4,
   "metadata": {},
   "outputs": [
    {
     "name": "stdout",
     "output_type": "stream",
     "text": [
      "[0, 0, 0]\n",
      "[0, 0, 1]\n",
      "[0, 0, 2]\n",
      "[0, 1, 0]\n",
      "[0, 1, 1]\n",
      "[0, 1, 2]\n",
      "[0, 2, 0]\n",
      "[0, 2, 1]\n",
      "[0, 2, 2]\n",
      "[1, 0, 0]\n",
      "[1, 0, 1]\n",
      "[1, 0, 2]\n",
      "[1, 1, 0]\n",
      "[1, 1, 1]\n",
      "[1, 1, 2]\n",
      "[1, 2, 0]\n",
      "[1, 2, 1]\n",
      "[1, 2, 2]\n",
      "[2, 0, 0]\n",
      "[2, 0, 1]\n",
      "[2, 0, 2]\n",
      "[2, 1, 0]\n",
      "[2, 1, 1]\n",
      "[2, 1, 2]\n",
      "[2, 2, 0]\n",
      "[2, 2, 1]\n",
      "[2, 2, 2]\n"
     ]
    }
   ],
   "source": [
    "arr = [0, 0, 0]\n",
    "print(arr)\n",
    "while next_numb(arr, 3):\n",
    "    print(arr)"
   ]
  },
  {
   "cell_type": "code",
   "execution_count": 5,
   "metadata": {},
   "outputs": [
    {
     "name": "stdout",
     "output_type": "stream",
     "text": [
      "* * * * * * * * * * \n",
      " * * * * * * * * * \n",
      "  * * * * * * * * \n",
      "   * * * * * * * \n",
      "    * * * * * * \n",
      "     * * * * * \n",
      "      * * * * \n",
      "       * * * \n",
      "        * * \n",
      "         * \n"
     ]
    }
   ],
   "source": [
    "# Print Stars\n",
    "\n",
    "def printtriangle(n):\n",
    "    for i in range(n, 0, -1):\n",
    "        print(\" \" * (n - i) + \"* \"*i)\n",
    "printtriangle(10)"
   ]
  },
  {
   "cell_type": "code",
   "execution_count": 6,
   "metadata": {},
   "outputs": [
    {
     "name": "stdout",
     "output_type": "stream",
     "text": [
      "********\n",
      " ******\n",
      "  ****\n",
      "   **\n"
     ]
    }
   ],
   "source": [
    "# Print Stars\n",
    "\n",
    "def printtriangle1(n):\n",
    "    for i in range(n, 0, -2):\n",
    "        print(\" \" * ((n - i)//2) + \"*\"*i)\n",
    "printtriangle1(8)"
   ]
  },
  {
   "cell_type": "code",
   "execution_count": 7,
   "metadata": {},
   "outputs": [
    {
     "name": "stdout",
     "output_type": "stream",
     "text": [
      "----------------------------------------------------------------------------------------------------\n"
     ]
    }
   ],
   "source": [
    "result = \"\"\n",
    "for i in range(100):\n",
    "    result += \"-\"\n",
    "print(result)"
   ]
  },
  {
   "cell_type": "code",
   "execution_count": 8,
   "metadata": {},
   "outputs": [
    {
     "name": "stdout",
     "output_type": "stream",
     "text": [
      "* * * * * \n",
      " * * * * \n",
      "  * * * \n",
      "   * * \n",
      "    * \n"
     ]
    }
   ],
   "source": [
    "def print_stars_rec(n, spaces=''): #top down\n",
    "    # print n stars\n",
    "    if n == 0:\n",
    "        return\n",
    "    print(spaces + \"* \" * n)\n",
    "    print_stars_rec(n - 1, ' ' + spaces)\n",
    "print_stars_rec(5)"
   ]
  },
  {
   "cell_type": "code",
   "execution_count": 9,
   "metadata": {},
   "outputs": [
    {
     "name": "stdout",
     "output_type": "stream",
     "text": [
      "hihellow"
     ]
    }
   ],
   "source": [
    "print(\"hi\", end=\"\")\n",
    "print(\"hellow\", end=\"\")"
   ]
  },
  {
   "cell_type": "markdown",
   "metadata": {},
   "source": [
    "# Q: pow_int(n, m) # design your own **   , pow_int(3, 5) -> 3 * pow_int(3, 4)"
   ]
  },
  {
   "cell_type": "code",
   "execution_count": 12,
   "metadata": {},
   "outputs": [],
   "source": [
    "def pow_int(n, m):\n",
    "    if m < 0:\n",
    "        print(\"Not yet implemented\")\n",
    "        return None\n",
    "    if m == 0:\n",
    "        return 1\n",
    "    return n * pow_int(n, m - 1)\n",
    "#pow_int(3, 4)"
   ]
  },
  {
   "cell_type": "code",
   "execution_count": 13,
   "metadata": {},
   "outputs": [
    {
     "name": "stdout",
     "output_type": "stream",
     "text": [
      "Not yet implemented\n"
     ]
    },
    {
     "ename": "TypeError",
     "evalue": "unsupported operand type(s) for *: 'int' and 'NoneType'",
     "output_type": "error",
     "traceback": [
      "\u001b[0;31m---------------------------------------------------------------------------\u001b[0m",
      "\u001b[0;31mTypeError\u001b[0m                                 Traceback (most recent call last)",
      "\u001b[0;32m<ipython-input-13-9e65a8da3b9e>\u001b[0m in \u001b[0;36m<module>\u001b[0;34m\u001b[0m\n\u001b[0;32m----> 1\u001b[0;31m \u001b[0mpow_int\u001b[0m\u001b[0;34m(\u001b[0m\u001b[0;36m2\u001b[0m\u001b[0;34m,\u001b[0m \u001b[0;36m1.5\u001b[0m\u001b[0;34m)\u001b[0m\u001b[0;34m\u001b[0m\u001b[0;34m\u001b[0m\u001b[0m\n\u001b[0m",
      "\u001b[0;32m<ipython-input-12-9e2417c55f5d>\u001b[0m in \u001b[0;36mpow_int\u001b[0;34m(n, m)\u001b[0m\n\u001b[1;32m      5\u001b[0m     \u001b[0;32mif\u001b[0m \u001b[0mm\u001b[0m \u001b[0;34m==\u001b[0m \u001b[0;36m0\u001b[0m\u001b[0;34m:\u001b[0m\u001b[0;34m\u001b[0m\u001b[0;34m\u001b[0m\u001b[0m\n\u001b[1;32m      6\u001b[0m         \u001b[0;32mreturn\u001b[0m \u001b[0;36m1\u001b[0m\u001b[0;34m\u001b[0m\u001b[0;34m\u001b[0m\u001b[0m\n\u001b[0;32m----> 7\u001b[0;31m     \u001b[0;32mreturn\u001b[0m \u001b[0mn\u001b[0m \u001b[0;34m*\u001b[0m \u001b[0mpow_int\u001b[0m\u001b[0;34m(\u001b[0m\u001b[0mn\u001b[0m\u001b[0;34m,\u001b[0m \u001b[0mm\u001b[0m \u001b[0;34m-\u001b[0m \u001b[0;36m1\u001b[0m\u001b[0;34m)\u001b[0m\u001b[0;34m\u001b[0m\u001b[0;34m\u001b[0m\u001b[0m\n\u001b[0m\u001b[1;32m      8\u001b[0m \u001b[0;31m#pow_int(3, 4)\u001b[0m\u001b[0;34m\u001b[0m\u001b[0;34m\u001b[0m\u001b[0;34m\u001b[0m\u001b[0m\n",
      "\u001b[0;32m<ipython-input-12-9e2417c55f5d>\u001b[0m in \u001b[0;36mpow_int\u001b[0;34m(n, m)\u001b[0m\n\u001b[1;32m      5\u001b[0m     \u001b[0;32mif\u001b[0m \u001b[0mm\u001b[0m \u001b[0;34m==\u001b[0m \u001b[0;36m0\u001b[0m\u001b[0;34m:\u001b[0m\u001b[0;34m\u001b[0m\u001b[0;34m\u001b[0m\u001b[0m\n\u001b[1;32m      6\u001b[0m         \u001b[0;32mreturn\u001b[0m \u001b[0;36m1\u001b[0m\u001b[0;34m\u001b[0m\u001b[0;34m\u001b[0m\u001b[0m\n\u001b[0;32m----> 7\u001b[0;31m     \u001b[0;32mreturn\u001b[0m \u001b[0mn\u001b[0m \u001b[0;34m*\u001b[0m \u001b[0mpow_int\u001b[0m\u001b[0;34m(\u001b[0m\u001b[0mn\u001b[0m\u001b[0;34m,\u001b[0m \u001b[0mm\u001b[0m \u001b[0;34m-\u001b[0m \u001b[0;36m1\u001b[0m\u001b[0;34m)\u001b[0m\u001b[0;34m\u001b[0m\u001b[0;34m\u001b[0m\u001b[0m\n\u001b[0m\u001b[1;32m      8\u001b[0m \u001b[0;31m#pow_int(3, 4)\u001b[0m\u001b[0;34m\u001b[0m\u001b[0;34m\u001b[0m\u001b[0;34m\u001b[0m\u001b[0m\n",
      "\u001b[0;31mTypeError\u001b[0m: unsupported operand type(s) for *: 'int' and 'NoneType'"
     ]
    }
   ],
   "source": [
    "pow_int(2, 1.5)"
   ]
  },
  {
   "cell_type": "markdown",
   "metadata": {},
   "source": [
    "# Q: Design integer multiplication you can use add\n",
    "\n",
    "def mul(n, m):\n",
    "    # m + m + m ... n times\n",
    "    # m + mul(n-1, m)\n",
    "    "
   ]
  },
  {
   "cell_type": "code",
   "execution_count": 21,
   "metadata": {},
   "outputs": [],
   "source": [
    "# Q: Design division\n",
    "# \n",
    "def divide_pos(n, m): # n/m, return quotient, remainder\n",
    "    if n < m:\n",
    "        return 0, n\n",
    "    if n == m:\n",
    "        return 1, 0\n",
    "    result, remain = divide_pos(n-m, m)\n",
    "    return result + 1, remain\n"
   ]
  },
  {
   "cell_type": "code",
   "execution_count": 22,
   "metadata": {},
   "outputs": [
    {
     "data": {
      "text/plain": [
       "(4, 1)"
      ]
     },
     "execution_count": 22,
     "metadata": {},
     "output_type": "execute_result"
    }
   ],
   "source": [
    "divide_pos(21, 5)"
   ]
  },
  {
   "cell_type": "code",
   "execution_count": null,
   "metadata": {},
   "outputs": [],
   "source": []
  },
  {
   "cell_type": "markdown",
   "metadata": {},
   "source": [
    "# Q: You have two point in n-dimension, you have to compute a distance between them.\n"
   ]
  },
  {
   "cell_type": "code",
   "execution_count": 11,
   "metadata": {},
   "outputs": [],
   "source": [
    "import math\n",
    "def dist (A, B):\n",
    "    if len(A) == len(B):\n",
    "        distance = 0\n",
    "        for i in range(len(A)):\n",
    "            dis = (A[i] - B[i])**2\n",
    "            distance = distance + dis\n",
    "    return math.sqrt(distance)"
   ]
  },
  {
   "cell_type": "code",
   "execution_count": 12,
   "metadata": {},
   "outputs": [
    {
     "data": {
      "text/plain": [
       "2.0"
      ]
     },
     "execution_count": 12,
     "metadata": {},
     "output_type": "execute_result"
    }
   ],
   "source": [
    "dist ([3], [5])"
   ]
  },
  {
   "cell_type": "code",
   "execution_count": 13,
   "metadata": {},
   "outputs": [
    {
     "data": {
      "text/plain": [
       "7.211102550927978"
      ]
     },
     "execution_count": 13,
     "metadata": {},
     "output_type": "execute_result"
    }
   ],
   "source": [
    "dist ([3,7], [9,11])"
   ]
  },
  {
   "cell_type": "code",
   "execution_count": 14,
   "metadata": {},
   "outputs": [
    {
     "data": {
      "text/plain": [
       "10.295630140987"
      ]
     },
     "execution_count": 14,
     "metadata": {},
     "output_type": "execute_result"
    }
   ],
   "source": [
    "dist ([3,7,10,4,6], [9,11,3,5,8])"
   ]
  },
  {
   "cell_type": "markdown",
   "metadata": {},
   "source": [
    "1. Time complexity -> Order Of(How many elements)\n",
    "2. Memory / Space Complexity -> Order of (How many elements)"
   ]
  },
  {
   "cell_type": "code",
   "execution_count": 15,
   "metadata": {},
   "outputs": [
    {
     "data": {
      "text/plain": [
       "2"
      ]
     },
     "execution_count": 15,
     "metadata": {},
     "output_type": "execute_result"
    }
   ],
   "source": [
    "min([10,2,3,4])"
   ]
  },
  {
   "cell_type": "code",
   "execution_count": 16,
   "metadata": {},
   "outputs": [],
   "source": [
    "def mymin(arr):\n",
    "    result = arr[0]\n",
    "    for i in range(1, len(arr)):\n",
    "        if arr[i] < result:\n",
    "            result = arr[i]\n",
    "    return result"
   ]
  },
  {
   "cell_type": "code",
   "execution_count": 17,
   "metadata": {},
   "outputs": [
    {
     "data": {
      "text/plain": [
       "-4"
      ]
     },
     "execution_count": 17,
     "metadata": {},
     "output_type": "execute_result"
    }
   ],
   "source": [
    "mymin([10,2,3,-4])"
   ]
  },
  {
   "cell_type": "code",
   "execution_count": 18,
   "metadata": {},
   "outputs": [
    {
     "data": {
      "text/plain": [
       "-50"
      ]
     },
     "execution_count": 18,
     "metadata": {},
     "output_type": "execute_result"
    }
   ],
   "source": [
    "def mymin2(arr):\n",
    "    arr.sort() # n*log(n)\n",
    "    return arr[0]\n",
    "mymin2([4,5,6, -2, 10, 100, -50, 1000])"
   ]
  },
  {
   "cell_type": "code",
   "execution_count": 20,
   "metadata": {},
   "outputs": [
    {
     "data": {
      "text/plain": [
       "[-50, -2, 4]"
      ]
     },
     "execution_count": 20,
     "metadata": {},
     "output_type": "execute_result"
    }
   ],
   "source": [
    "#def min_head(arr, k):\n",
    "    # Give me k smallest numbers\n",
    "    # We will iterative call our min method k times\n",
    "    # Order(n*k)\n",
    "def min_head(arr, k):\n",
    "    arr.sort() # Order(n*log(n) )\n",
    "    return arr[:k]\n",
    "min_head([4,5,6, -2, 10, 100, -50, 1000],3)"
   ]
  },
  {
   "cell_type": "markdown",
   "metadata": {},
   "source": [
    "Level Up:\n",
    "We need to predict the load on our website in near realtime.\n",
    "\n",
    "t = 0, load = 10 t = 1, load = 15 t = 2, load = 30 t = 3, load = ? t = 4, load = ?\n",
    "\n",
    "First write a method called fit(data) that returns a model and then write a method called predict(model, time) that returns the load\n",
    "\n",
    "It is known the load on the website is a non-linear equations i.e. load = a * t^2 + b * t + c\n",
    "\n",
    "Start with pen and papers. Do it manually first and then come up with a stragetegy to do with code."
   ]
  },
  {
   "cell_type": "code",
   "execution_count": null,
   "metadata": {},
   "outputs": [],
   "source": [
    "def fit(data):\n",
    "    \n",
    "    t1,t2,t3=data[0][0],data[1][0],data[2][0]\n",
    "    load1,load2,load3=data[0][1],data[1][1],data[2][1]\n",
    "    #for i in range(0,len(data)):\n",
    "    #a*t1**2+b*t1+c = l1    # c = 10\n",
    "    #a*t2**2+b*t2+c = l2   #equation1\n",
    "    #a*t3**2+b*t3+c = l3   #equation2\n",
    "    #a*t3**2+b*t3+c - (a*t2**2+b*t2+c) = load3 - load2    #eq2-eq1\n",
    "    if t1 == 0:\n",
    "        c = load1\n",
    "    if t2 == 1:\n",
    "        a+b = load2 - c\n",
    "    if t3 == 2:\n",
    "        4*a + 2*b = load3 - c\n",
    "        \n",
    "    return [a,b,c]"
   ]
  }
 ],
 "metadata": {
  "kernelspec": {
   "display_name": "Python 3",
   "language": "python",
   "name": "python3"
  },
  "language_info": {
   "codemirror_mode": {
    "name": "ipython",
    "version": 3
   },
   "file_extension": ".py",
   "mimetype": "text/x-python",
   "name": "python",
   "nbconvert_exporter": "python",
   "pygments_lexer": "ipython3",
   "version": "3.6.8"
  },
  "toc": {
   "base_numbering": 1,
   "nav_menu": {},
   "number_sections": true,
   "sideBar": true,
   "skip_h1_title": false,
   "title_cell": "Table of Contents",
   "title_sidebar": "Contents",
   "toc_cell": false,
   "toc_position": {},
   "toc_section_display": true,
   "toc_window_display": false
  }
 },
 "nbformat": 4,
 "nbformat_minor": 2
}
